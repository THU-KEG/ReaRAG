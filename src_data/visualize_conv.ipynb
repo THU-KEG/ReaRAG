{
 "cells": [
  {
   "cell_type": "code",
   "execution_count": 1,
   "metadata": {},
   "outputs": [],
   "source": [
    "import json\n",
    "from termcolor import colored\n",
    "\n",
    "def print_conv(convs):\n",
    "    for turn, step in enumerate(convs):\n",
    "        if step['role'] == 'user':\n",
    "            continue\n",
    "        elif step['role'] == 'assistant':\n",
    "            print(colored(step.get('reasoning', ''), 'blue'))\n",
    "        elif step['role'] == 'observation':\n",
    "            print(colored(f\"Observation {(turn+1)//2}: {step.get('content', '')}\", 'yellow'))\n",
    "        else:\n",
    "            print(colored(f\"Got unknown role '{step['role']}'\", 'red'))\n",
    "\n",
    "def read_jsonl(filepath):\n",
    "    with open(filepath, 'r') as f:\n",
    "        data = [json.loads(line.strip()) for line in f]\n",
    "    return data"
   ]
  },
  {
   "cell_type": "markdown",
   "metadata": {},
   "source": [
    "Load and print some statistics"
   ]
  },
  {
   "cell_type": "code",
   "execution_count": 2,
   "metadata": {},
   "outputs": [
    {
     "name": "stdout",
     "output_type": "stream",
     "text": [
      "Number of data: 7\n",
      "dict_keys(['question', 'answer', 'prompt', 'corpora', 'conversation', 'id'])\n",
      "Number of non-empty data: 6\n"
     ]
    }
   ],
   "source": [
    "filepath = 'data/conv_qwq_temp.jsonl'\n",
    "data = read_jsonl(filepath)\n",
    "print(f\"Number of data: {len(data)}\")\n",
    "print(data[0].keys())\n",
    "\n",
    "# Calculate number of non-empty data\n",
    "not_empty_cnt = 0\n",
    "for item in data:\n",
    "    if item['conversation']:\n",
    "        not_empty_cnt += 1\n",
    "print(f\"Number of non-empty data: {not_empty_cnt}\")"
   ]
  },
  {
   "cell_type": "markdown",
   "metadata": {},
   "source": [
    "Print conversation"
   ]
  },
  {
   "cell_type": "code",
   "execution_count": null,
   "metadata": {},
   "outputs": [
    {
     "name": "stdout",
     "output_type": "stream",
     "text": [
      "\u001b[34mThought 1: Identify which \"The Game\" is being referred to.\n",
      "Action 1: \n",
      "```\n",
      "{'function': 'search', 'parameters': {'query': 'What is \"The Game\" in the context of film or gaming?'}}\n",
      "```\u001b[0m\n",
      "\u001b[33mObservation 1: \n",
      "In the context of film, \"The Game\" refers to a 1997 American mystery thriller film directed by David Fincher. The film stars Michael Douglas and Sean Penn and is produced by Propaganda Films and PolyGram Filmed Entertainment. It revolves around a wealthy investment banker who is given a mysterious gift involving a game that intertwines with his everyday life, leading to a potential large conspiracy.\n",
      "\n",
      "In the context of gaming, \"The Game\" could refer to \"The Movies,\" a game that allows players to create and produce films, covering the history of cinema from its inception to the future. It allows for interactive storytelling and the application of various technologies and historical advancements in the field of film production. Players can add voice, text, and music during post-production and can engage in competitive gameplay or self-expression through artistic intent. Alternatively, \"The Game\" could also refer to \"Art game,\" which is a subgenre of video games that emphasize art or are designed to evoke a specific reaction from the audience, often incorporating interactive elements.\u001b[0m\n",
      "\u001b[34mThought 2: Determine which studio distributed \"The Game\" in question.\n",
      "Action 2: \n",
      "```\n",
      "{'function': 'search', 'parameters': {'query': 'Which studio distributed the 1997 film \"The Game\" directed by David Fincher?'}}\n",
      "```\u001b[0m\n",
      "\u001b[33mObservation 2: \n",
      "The studio that distributed the 1997 film \"The Game,\" directed by David Fincher, was PolyGram Filmed Entertainment.\u001b[0m\n",
      "\u001b[34mThought 3: Investigate when PolyGram Filmed Entertainment was abolished.\n",
      "Action 3: \n",
      "```\n",
      "{'function': 'search', 'parameters': {'query': 'When was PolyGram Filmed Entertainment abolished?'}}\n",
      "```\u001b[0m\n",
      "\u001b[33mObservation 3: \n",
      "PolyGram Filmed Entertainment was abolished in 2000.\u001b[0m\n",
      "\u001b[34mThought 4: Verify the timeline to ensure accuracy.\n",
      "Action 4: \n",
      "```\n",
      "{'function': 'search', 'parameters': {'query': 'Timeline of PolyGram Filmed Entertainment and its association with \"The Game\" (1997 film)'}}\n",
      "```\u001b[0m\n",
      "\u001b[33mObservation 4: \n",
      "PolyGram Filmed Entertainment (PFE) was associated with \"The Game\" (1997) through its involvement in the production of the film. Here is a timeline outlining their relationship:\n",
      "\n",
      "- **1997**: The Game was released on September 12, 1997. It was produced by Propaganda Films and PolyGram Filmed Entertainment at this time.\n",
      "\n",
      "- **1998**: PolyGram's parent company, Seagram, which controlled Universal Pictures, began considering divesting in PFE. This led to a series of transactions that would reshape the ownership of PolyGram's assets, including its film library.\n",
      "\n",
      "- **1998**: Seagram decided to sell the bulk of its film library, which included films released up until March 31, 1996, to Metro-Goldwyn-Mayer (MGM). This sale did not include \"The Game,\" as it was released after this date.\n",
      "\n",
      "- **1998**: The remaining film assets of PolyGram, including those released after March 31, 1996, were folded into Universal Pictures. This meant that Universal Pictures, through its association with PolyGram Entertainment, became the owner of \"The Game\" (1997) after this point.\n",
      "\n",
      "Therefore, while PolyGram Filmed Entertainment was the producer of \"The Game\" (1997) during its production and release, the company's ownership of the film transitioned to Universal Pictures in 1998 as a result of the sale and restructuring.\u001b[0m\n",
      "\u001b[34mThought 5: Consider the exact date or year when PolyGram Filmed Entertainment was abolished.\n",
      "Action 5: \n",
      "```\n",
      "{'function': 'search', 'parameters': {'query': 'Exact date of abolition of PolyGram Filmed Entertainment'}}\n",
      "```\u001b[0m\n",
      "\u001b[33mObservation 5: \n",
      "The exact date of the abolition of PolyGram Filmed Entertainment is not explicitly stated in the provided context. However, it is mentioned that PolyGram Filmed Entertainment was merged into Universal Pictures, which became a successor to MCA Inc. following the acquisition by Seagram and the subsequent sale to Vivendi. The context does not provide a specific date for the abolition of PolyGram Filmed Entertainment.\u001b[0m\n",
      "\u001b[34mThought 6: Determine if there is a specific event or date that marks the end of PolyGram Filmed Entertainment's operations.\n",
      "Action 6: \n",
      "```\n",
      "{'function': 'search', 'parameters': {'query': 'Key events in the history of PolyGram Filmed Entertainment leading to its abolition'}}\n",
      "```\u001b[0m\n",
      "\u001b[33mObservation 6: \n",
      "The key events in the history of PolyGram Filmed Entertainment leading to its abolition include:\n",
      "\n",
      "1. **Acquisition by PolyGram**: PolyGram continued to invest in a diversified film unit, purchasing individual production companies to expand its film operations.\n",
      "2. **Management Changes**: Jan Timmer became the President and CEO of PolyGram, implementing workforce reductions and diversifying the company's music repertoire.\n",
      "3. **Divestment by Seagram**: Seagram, which controlled Universal Pictures, sought to divest from PolyGram Filmed Entertainment (PFE) and sold its individual assets.\n",
      "4. **Sale to Metro-Goldwyn-Mayer (MGM)**: In 1998, Seagram sold the bulk of its film library to MGM.\n",
      "5. **Sale to Carlton Communications**: The ITC library was sold to Carlton Communications.\n",
      "6. **Sale of North American Distribution Assets**: Some of PFE's North American distribution assets were sold to USA Networks.\n",
      "7. **Merger with Universal Pictures**: Post-1996 films owned by Polygram Entertainment were acquired by Universal Pictures.\n",
      "8. **Acquisition by Seagram**: PolyGram, including PolyGram Filmed Entertainment, was sold to Seagram in May 1998.\n",
      "9. **Integration into Universal Music Group**: PolyGram was merged into Universal Music Group, and PolyGram Filmed Entertainment into Universal Pictures.\n",
      "10. **Sale to Vivendi**: The entertainment division of Seagram, which included Universal Pictures, faced financial difficulties and was sold to Vivendi.\n",
      "11. **Rebranding and Restructuring**: MCA became known as Universal Studios, and the film and television division was sold to NBCUniversal. Vivendi retained ownership of the Universal Music Group.\n",
      "\n",
      "These events ultimately led to the dissolution of PolyGram Filmed Entertainment as an independent entity, with its assets being absorbed into the larger Universal Pictures and Universal Music Group under the control of Vivendi.\u001b[0m\n",
      "\u001b[34mThought 7: Based on the above events, it seems that PolyGram Filmed Entertainment was abolished around 1998-1999 due to the merger and acquisition activities.\n",
      "Action 7: \n",
      "```\n",
      "{'function': 'finish', 'parameters': {'answer': 'PolyGram Filmed Entertainment, which distributed \"The Game\" (1997), was abolished around 1998-1999 due to the merger and acquisition activities involving Seagram, Universal Pictures, and Vivendi.'}}\n",
      "```\u001b[0m\n"
     ]
    }
   ],
   "source": [
    "# the tgt_idx might be empty, change another one if it is empty\n",
    "tgt_idx = 2\n",
    "print_conv(data[tgt_idx]['conversation'])"
   ]
  }
 ],
 "metadata": {
  "kernelspec": {
   "display_name": "rearag",
   "language": "python",
   "name": "python3"
  },
  "language_info": {
   "codemirror_mode": {
    "name": "ipython",
    "version": 3
   },
   "file_extension": ".py",
   "mimetype": "text/x-python",
   "name": "python",
   "nbconvert_exporter": "python",
   "pygments_lexer": "ipython3",
   "version": "3.10.16"
  }
 },
 "nbformat": 4,
 "nbformat_minor": 2
}
